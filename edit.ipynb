{
 "cells": [
  {
   "cell_type": "code",
   "execution_count": 1,
   "metadata": {},
   "outputs": [],
   "source": [
    "import cv2\n",
    "import numpy as np\n",
    "import numpy.fft as fft\n",
    "\n",
    "from PIL import Image, ImageDraw, ImageFont"
   ]
  },
  {
   "cell_type": "code",
   "execution_count": 7,
   "metadata": {},
   "outputs": [
    {
     "data": {
      "text/plain": [
       "True"
      ]
     },
     "execution_count": 7,
     "metadata": {},
     "output_type": "execute_result"
    }
   ],
   "source": [
    "name = 'PeppersRGB'\n",
    "\n",
    "# 读取 lena rgb 位图 LenaRGB.bmp，通道顺序 (b,g,r)\n",
    "img_bgr = cv2.imread('./display/'+name+'_wm.png', cv2.IMREAD_COLOR)\n",
    "img_rgb = cv2.cvtColor(img_bgr, cv2.COLOR_BGR2RGB)\n",
    "\n",
    "# 获取长宽\n",
    "height, width = img_rgb.shape[:2]\n",
    "\n",
    "# 将中间 180*180 区域高斯模糊\n",
    "img_rgb[height//2-90:height//2+90, width//2-90:width//2+90] = cv2.GaussianBlur(img_rgb[height//2-90:height//2+90, width//2-90:width//2+90], (17, 17), 0)\n",
    "\n",
    "# 存储图像\n",
    "cv2.imwrite('./display/'+name+'_wm_blur.png', cv2.cvtColor(img_rgb, cv2.COLOR_RGB2BGR))"
   ]
  },
  {
   "cell_type": "code",
   "execution_count": null,
   "metadata": {},
   "outputs": [],
   "source": []
  }
 ],
 "metadata": {
  "kernelspec": {
   "display_name": "img_process",
   "language": "python",
   "name": "python3"
  },
  "language_info": {
   "codemirror_mode": {
    "name": "ipython",
    "version": 3
   },
   "file_extension": ".py",
   "mimetype": "text/x-python",
   "name": "python",
   "nbconvert_exporter": "python",
   "pygments_lexer": "ipython3",
   "version": "3.10.11"
  },
  "orig_nbformat": 4
 },
 "nbformat": 4,
 "nbformat_minor": 2
}
